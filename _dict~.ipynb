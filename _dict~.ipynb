{
 "cells": [
  {
   "cell_type": "code",
   "execution_count": 2,
   "id": "54671fca",
   "metadata": {},
   "outputs": [],
   "source": [
    "x = {\"name\" : \"darshan\" , \"age\" :15 , \"city\" : \"salem\"}"
   ]
  },
  {
   "cell_type": "code",
   "execution_count": 3,
   "id": "5b124eae",
   "metadata": {},
   "outputs": [
    {
     "name": "stdout",
     "output_type": "stream",
     "text": [
      "{'name': 'darshan', 'age': 15, 'city': 'salem'}\n"
     ]
    }
   ],
   "source": [
    "print(x)"
   ]
  },
  {
   "cell_type": "code",
   "execution_count": 6,
   "id": "117ff085",
   "metadata": {},
   "outputs": [],
   "source": [
    "x = dict(name=\"darshan\" , age=15 , city=\"madurai\")"
   ]
  },
  {
   "cell_type": "code",
   "execution_count": 7,
   "id": "69e247b8",
   "metadata": {},
   "outputs": [
    {
     "name": "stdout",
     "output_type": "stream",
     "text": [
      "{'name': 'darshan', 'age': 15, 'city': 'madurai'}\n"
     ]
    }
   ],
   "source": [
    "print(x)"
   ]
  },
  {
   "cell_type": "code",
   "execution_count": 10,
   "id": "1d908e01",
   "metadata": {},
   "outputs": [],
   "source": [
    "x=dict(zip((\"name\" , \"age\" , \"city\"),(\"darshan\" , 15 , \"karrur\")))"
   ]
  },
  {
   "cell_type": "code",
   "execution_count": 11,
   "id": "e2b7c0bc",
   "metadata": {},
   "outputs": [
    {
     "name": "stdout",
     "output_type": "stream",
     "text": [
      "{'name': 'darshan', 'age': 15, 'city': 'karrur'}\n"
     ]
    }
   ],
   "source": [
    "print(x)"
   ]
  },
  {
   "cell_type": "code",
   "execution_count": 12,
   "id": "a7279b73",
   "metadata": {},
   "outputs": [],
   "source": [
    "x = dict([[\"name\",\"danny\"],[\"age\" , 15],[\"city\" , \"salem\"]])"
   ]
  },
  {
   "cell_type": "code",
   "execution_count": 13,
   "id": "37ac7201",
   "metadata": {},
   "outputs": [
    {
     "name": "stdout",
     "output_type": "stream",
     "text": [
      "{'name': 'danny', 'age': 15, 'city': 'salem'}\n"
     ]
    }
   ],
   "source": [
    "print(x)"
   ]
  },
  {
   "cell_type": "code",
   "execution_count": 15,
   "id": "179d14f2",
   "metadata": {},
   "outputs": [
    {
     "ename": "TypeError",
     "evalue": "unhashable type: 'dict'",
     "output_type": "error",
     "traceback": [
      "\u001b[1;31m---------------------------------------------------------------------------\u001b[0m",
      "\u001b[1;31mTypeError\u001b[0m                                 Traceback (most recent call last)",
      "Cell \u001b[1;32mIn[15], line 1\u001b[0m\n\u001b[1;32m----> 1\u001b[0m \u001b[43mx\u001b[49m\u001b[38;5;241;43m.\u001b[39;49m\u001b[43mget\u001b[49m\u001b[43m(\u001b[49m\u001b[43mx\u001b[49m\u001b[43m)\u001b[49m\n",
      "\u001b[1;31mTypeError\u001b[0m: unhashable type: 'dict'"
     ]
    }
   ],
   "source": [
    "x.get(x)"
   ]
  },
  {
   "cell_type": "code",
   "execution_count": 16,
   "id": "8e1290e0",
   "metadata": {},
   "outputs": [
    {
     "name": "stdout",
     "output_type": "stream",
     "text": [
      "name\n",
      "age\n",
      "city\n"
     ]
    }
   ],
   "source": [
    "for i in x:\n",
    "    print(i)"
   ]
  },
  {
   "cell_type": "code",
   "execution_count": 17,
   "id": "37681f39",
   "metadata": {},
   "outputs": [
    {
     "data": {
      "text/plain": [
       "dict_items([('name', 'danny'), ('age', 15), ('city', 'salem')])"
      ]
     },
     "execution_count": 17,
     "metadata": {},
     "output_type": "execute_result"
    }
   ],
   "source": [
    "x.items()"
   ]
  },
  {
   "cell_type": "code",
   "execution_count": 24,
   "id": "20c6775a",
   "metadata": {},
   "outputs": [
    {
     "data": {
      "text/plain": [
       "dict_items([('name', 'danny'), ('age', 15), ('city', 'salem')])"
      ]
     },
     "execution_count": 24,
     "metadata": {},
     "output_type": "execute_result"
    }
   ],
   "source": [
    "x.items()"
   ]
  },
  {
   "cell_type": "code",
   "execution_count": 26,
   "id": "f7891e96",
   "metadata": {},
   "outputs": [],
   "source": [
    "x[\"state\"] = \"tamilnadu\""
   ]
  },
  {
   "cell_type": "code",
   "execution_count": 27,
   "id": "17a348e3",
   "metadata": {},
   "outputs": [
    {
     "name": "stdout",
     "output_type": "stream",
     "text": [
      "{'name': 'danny', 'age': 15, 'city': 'salem', 'state': 'tamilnadu'}\n"
     ]
    }
   ],
   "source": [
    "print(x)"
   ]
  },
  {
   "cell_type": "code",
   "execution_count": 28,
   "id": "9dd532e7",
   "metadata": {},
   "outputs": [
    {
     "data": {
      "text/plain": [
       "('state', 'tamilnadu')"
      ]
     },
     "execution_count": 28,
     "metadata": {},
     "output_type": "execute_result"
    }
   ],
   "source": [
    "x.popitem()"
   ]
  },
  {
   "cell_type": "code",
   "execution_count": 29,
   "id": "bd4e47b0",
   "metadata": {},
   "outputs": [
    {
     "name": "stdout",
     "output_type": "stream",
     "text": [
      "{'name': 'danny', 'age': 15, 'city': 'salem'}\n"
     ]
    }
   ],
   "source": [
    "print(x)"
   ]
  },
  {
   "cell_type": "code",
   "execution_count": 32,
   "id": "1085e4fa",
   "metadata": {},
   "outputs": [],
   "source": [
    "x.clear()"
   ]
  },
  {
   "cell_type": "code",
   "execution_count": 33,
   "id": "127a1b73",
   "metadata": {},
   "outputs": [
    {
     "name": "stdout",
     "output_type": "stream",
     "text": [
      "{}\n"
     ]
    }
   ],
   "source": [
    "print(x)"
   ]
  },
  {
   "cell_type": "code",
   "execution_count": 34,
   "id": "ecb58440",
   "metadata": {},
   "outputs": [],
   "source": [
    "x = {i for i in range(11)}"
   ]
  },
  {
   "cell_type": "code",
   "execution_count": 35,
   "id": "fef5c825",
   "metadata": {},
   "outputs": [
    {
     "name": "stdout",
     "output_type": "stream",
     "text": [
      "{0, 1, 2, 3, 4, 5, 6, 7, 8, 9, 10}\n"
     ]
    }
   ],
   "source": [
    "print(x)"
   ]
  }
 ],
 "metadata": {
  "kernelspec": {
   "display_name": "Python 3 (ipykernel)",
   "language": "python",
   "name": "python3"
  },
  "language_info": {
   "codemirror_mode": {
    "name": "ipython",
    "version": 3
   },
   "file_extension": ".py",
   "mimetype": "text/x-python",
   "name": "python",
   "nbconvert_exporter": "python",
   "pygments_lexer": "ipython3",
   "version": "3.10.9"
  }
 },
 "nbformat": 4,
 "nbformat_minor": 5
}
