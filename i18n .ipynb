{
 "cells": [
  {
   "cell_type": "code",
   "execution_count": 1,
   "id": "f2afdb0b",
   "metadata": {},
   "outputs": [
    {
     "name": "stdout",
     "output_type": "stream",
     "text": [
      "enter your mark: 90\n",
      "welcome you outstander\n"
     ]
    }
   ],
   "source": [
    "user = float(input('enter your mark: '))\n",
    "if user>0 and user<39:\n",
    "    print('re-appear')\n",
    "elif user<0 and user>39:\n",
    "    print('you had passed')\n",
    "elif user>0 and user>80:\n",
    "    print('welcome you outstander')"
   ]
  },
  {
   "cell_type": "code",
   "execution_count": 2,
   "id": "b2fe59b6",
   "metadata": {},
   "outputs": [
    {
     "name": "stdout",
     "output_type": "stream",
     "text": [
      "enter your number: 546\n",
      "it's even\n"
     ]
    }
   ],
   "source": [
    "# even or odd\n",
    "num  =int(input('enter your number: '))\n",
    "if num%2==0:\n",
    "    print(\"it's even\")\n",
    "else:\n",
    "    print(\"That's odd\")"
   ]
  },
  {
   "cell_type": "code",
   "execution_count": 3,
   "id": "0bb40592",
   "metadata": {},
   "outputs": [
    {
     "name": "stdout",
     "output_type": "stream",
     "text": [
      "enter your gmail id: darshan2503@gmail.com\n",
      "gmail is valid\n"
     ]
    }
   ],
   "source": [
    "loop = input('enter your gmail id: ')\n",
    "if '@' and 'gmail' in loop:\n",
    "    print(\"gmail is valid\")\n",
    "else:\n",
    "    print('user is invalid')"
   ]
  },
  {
   "cell_type": "code",
   "execution_count": 5,
   "id": "bed1f35b",
   "metadata": {},
   "outputs": [
    {
     "name": "stdout",
     "output_type": "stream",
     "text": [
      "enter the radius: 4576757\n",
      "area of the circle is 65832500287868.29 cm2\n"
     ]
    }
   ],
   "source": [
    "user = float(input('enter the radius: '))\n",
    "area = user*user*22/7\n",
    "print('area of the circle is',area,'cm2')"
   ]
  },
  {
   "cell_type": "code",
   "execution_count": 11,
   "id": "5568e8cc",
   "metadata": {},
   "outputs": [
    {
     "name": "stdout",
     "output_type": "stream",
     "text": [
      "enter your base: 43\n",
      "enter your power: 5\n",
      "147008443.0\n"
     ]
    }
   ],
   "source": [
    "#playing with numbers\n",
    "x = float(input('enter your base: '))\n",
    "y = float(input('enter your power: '))\n",
    "expo  = x**y\n",
    "print(expo)"
   ]
  },
  {
   "cell_type": "code",
   "execution_count": 12,
   "id": "8ef60373",
   "metadata": {},
   "outputs": [
    {
     "name": "stdout",
     "output_type": "stream",
     "text": [
      "enter your first number: 567\n",
      "enter your second number: 543\n",
      "enter your operator: *\n",
      "307881\n"
     ]
    }
   ],
   "source": [
    "#  calculator\n",
    "\n",
    "x = int(input('enter your first number: '))\n",
    "y = int(input('enter your second number: '))\n",
    "z = input('enter your operator: ')\n",
    "\n",
    "if z=='+':\n",
    "    print(x+y)\n",
    "if z=='-':\n",
    "    print(x-y)\n",
    "if z=='*':\n",
    "    print(x*y)\n",
    "if z=='/':\n",
    "    print(x/y)\n"
   ]
  },
  {
   "cell_type": "code",
   "execution_count": 13,
   "id": "10ee8b5e",
   "metadata": {},
   "outputs": [
    {
     "name": "stdout",
     "output_type": "stream",
     "text": [
      "just find me\n"
     ]
    }
   ],
   "source": [
    "#nested if\n",
    "x = 90\n",
    "y = 80\n",
    "x>y\n",
    "if False:\n",
    "    if False:\n",
    "        print('hello world')\n",
    "    else:\n",
    "        print('hey , find me')\n",
    "else:\n",
    "    if True:\n",
    "        print('just find me')\n"
   ]
  },
  {
   "cell_type": "code",
   "execution_count": 17,
   "id": "e13fc647",
   "metadata": {},
   "outputs": [],
   "source": [
    "#logistics in nested if\n",
    "x=100\n",
    "y=400\n",
    "y<x\n",
    "    \n",
    "if True and False:\n",
    "    if False or True:\n",
    "        print(\"THAT'S LOSTIC\")\n",
    "    else:\n",
    "        if True or False:\n",
    "            print(\"yep it's nested\")\n",
    "      \n",
    "        "
   ]
  },
  {
   "cell_type": "code",
   "execution_count": 19,
   "id": "daa5d551",
   "metadata": {},
   "outputs": [
    {
     "name": "stdout",
     "output_type": "stream",
     "text": [
      "0\n",
      "1\n",
      "2\n",
      "3\n",
      "4\n",
      "5\n",
      "6\n",
      "7\n",
      "8\n",
      "9\n"
     ]
    }
   ],
   "source": [
    "#while loop:___\n",
    "\n",
    "x = 0\n",
    "while x<10:\n",
    "    print(x)\n",
    "    x+=1"
   ]
  },
  {
   "cell_type": "code",
   "execution_count": 20,
   "id": "e8a50748",
   "metadata": {},
   "outputs": [
    {
     "name": "stdout",
     "output_type": "stream",
     "text": [
      "enter your value 1: 45\n",
      "enter your value 2: 78\n",
      "enter your value 3: 45\n",
      "with duplicate numbers 168\n",
      "without duplicate numbers 78\n"
     ]
    }
   ],
   "source": [
    "user_input = int(input(\"enter your value 1: \"))\n",
    "user_2input = int(input(\"enter your value 2: \"))\n",
    "user_3input = int(input(\"enter your value 3: \"))\n",
    "\n",
    "sum_input = user_input + user_2input + user_3input\n",
    "print(\"with duplicate numbers\" , sum_input)\n",
    "if user_input==user_2input:\n",
    "    print(\"without duplicate numbers\" , user_3input)\n",
    "elif user_2input==user_3input:\n",
    "    print(\"without duplicate numbers\" , user_input)\n",
    "elif user_input==user_3input:\n",
    "    print(\"without duplicate numbers\" , user_2input)\n"
   ]
  },
  {
   "cell_type": "code",
   "execution_count": 21,
   "id": "85f05394",
   "metadata": {},
   "outputs": [
    {
     "name": "stdout",
     "output_type": "stream",
     "text": [
      "under 50 units , per unit price is 0.50rs\n",
      "under 100 units , per unit price is 0.75rs\n",
      "under 250 units , per unit price is 1.20rs\n",
      "above 250 units , per unit price is 1.50rs\n",
      "enter your electricity bill: 546\n",
      "819.0\n"
     ]
    }
   ],
   "source": [
    "print('under 50 units , per unit price is 0.50rs')\n",
    "print('under 100 units , per unit price is 0.75rs')\n",
    "print('under 250 units , per unit price is 1.20rs')\n",
    "print('above 250 units , per unit price is 1.50rs')\n",
    "\n",
    "\n",
    "user_input = float(input(\"enter your electricity bill: \"))\n",
    "\n",
    "\n",
    "if user_input<50:\n",
    "    print(user_input*0.5)\n",
    "elif user_input<100:\n",
    "    print(user_input*0.75)\n",
    "elif user_input<250:\n",
    "    print(user_input*1.2)\n",
    "elif user_input>250:\n",
    "    print(user_input*1.5)"
   ]
  },
  {
   "cell_type": "code",
   "execution_count": 22,
   "id": "f0f4f64c",
   "metadata": {},
   "outputs": [
    {
     "name": "stdout",
     "output_type": "stream",
     "text": [
      "Python version\n",
      "3.10.9 | packaged by Anaconda, Inc. | (main, Mar  1 2023, 18:18:15) [MSC v.1916 64 bit (AMD64)]\n",
      "Version info.\n",
      "sys.version_info(major=3, minor=10, micro=9, releaselevel='final', serial=0)\n"
     ]
    }
   ],
   "source": [
    "import sys\n",
    "print(\"Python version\")\n",
    "print (sys.version)\n",
    "print(\"Version info.\")\n",
    "print (sys.version_info)"
   ]
  },
  {
   "cell_type": "code",
   "execution_count": 23,
   "id": "32cc9016",
   "metadata": {},
   "outputs": [
    {
     "name": "stdout",
     "output_type": "stream",
     "text": [
      "name: darshanb\n",
      "name: arulmurugan\n",
      "arulmurugandarshanb\n"
     ]
    }
   ],
   "source": [
    "lname = input('name: ')\n",
    "rname = input('name: ')\n",
    "myname = rname+lname\n",
    "print(myname)"
   ]
  },
  {
   "cell_type": "code",
   "execution_count": 24,
   "id": "3890e06c",
   "metadata": {},
   "outputs": [
    {
     "name": "stdout",
     "output_type": "stream",
     "text": [
      "your name: darshan\n",
      "7\n"
     ]
    }
   ],
   "source": [
    "name = input('your name: ')\n",
    "print(len(name))"
   ]
  },
  {
   "cell_type": "code",
   "execution_count": 25,
   "id": "6585e982",
   "metadata": {},
   "outputs": [
    {
     "name": "stdout",
     "output_type": "stream",
     "text": [
      "arshan\n"
     ]
    }
   ],
   "source": [
    "print(name[1:7])"
   ]
  },
  {
   "cell_type": "code",
   "execution_count": 26,
   "id": "48ce7c6f",
   "metadata": {},
   "outputs": [
    {
     "name": "stdout",
     "output_type": "stream",
     "text": [
      "n\n"
     ]
    }
   ],
   "source": [
    "print(name[6:7])"
   ]
  },
  {
   "cell_type": "code",
   "execution_count": 27,
   "id": "490518f1",
   "metadata": {},
   "outputs": [
    {
     "name": "stdout",
     "output_type": "stream",
     "text": [
      "what is your year to find: 43765\n",
      "43765 is not a leap year\n"
     ]
    }
   ],
   "source": [
    "# calculate leap or not\n",
    "get_input = int(input(\"what is your year to find: \"))\n",
    "if get_input%400==0 and get_input%100==0:\n",
    "    print(\"it's a leap year!! \")\n",
    "elif get_input%4==0 and get_input%100!=0:\n",
    "    print(\"it's a leap year!! \")\n",
    "else:\n",
    "    print(get_input,\"is not a leap year\")"
   ]
  },
  {
   "cell_type": "code",
   "execution_count": 31,
   "id": "240b5aa6",
   "metadata": {},
   "outputs": [],
   "source": [
    "def checkmyvalue():\n",
    "    if x%2==0:\n",
    "        print('even')\n",
    "    else:\n",
    "        print('odd')"
   ]
  },
  {
   "cell_type": "code",
   "execution_count": 32,
   "id": "af8397ae",
   "metadata": {},
   "outputs": [],
   "source": [
    "def add(x,y,z):\n",
    "    print('total=' ,x+y+z)"
   ]
  },
  {
   "cell_type": "code",
   "execution_count": 33,
   "id": "ff5bd237",
   "metadata": {},
   "outputs": [],
   "source": [
    "def student(name,age,city):\n",
    "    print(\"Name=\",name)\n",
    "    print(\"Age=\",age)\n",
    "    print(\"City=\",city)\n",
    "\n"
   ]
  },
  {
   "cell_type": "code",
   "execution_count": 34,
   "id": "4d797132",
   "metadata": {},
   "outputs": [
    {
     "name": "stdout",
     "output_type": "stream",
     "text": [
      "input your name: darshan\n",
      "input your age: 16\n",
      "input your voter id #example123: 46356345\n",
      "you need to wait for some more days days\n"
     ]
    }
   ],
   "source": [
    "user_input = input(\"input your name: \")\n",
    "user_input2 = int(input(\"input your age: \"))\n",
    "user_input3 = input(\"input your voter id #example123: \")\n",
    "if user_input2 >= 18:\n",
    "    print(\"you are eligible for voting\")\n",
    "else:\n",
    "    \n",
    "    print(\"you need to wait for some more days days\")"
   ]
  },
  {
   "cell_type": "code",
   "execution_count": 36,
   "id": "992f208a",
   "metadata": {},
   "outputs": [],
   "source": [
    "def getdata(x,y):\n",
    "    return x+y"
   ]
  },
  {
   "cell_type": "code",
   "execution_count": 37,
   "id": "c494a70f",
   "metadata": {},
   "outputs": [
    {
     "name": "stdout",
     "output_type": "stream",
     "text": [
      "enter your base: 456.5\n",
      "enter your height54.7\n",
      "12485.275000000001 cm2\n"
     ]
    }
   ],
   "source": [
    "base = float(input(\"enter your base: \"))\n",
    "height = float(input(\"enter your height\" ))\n",
    "\n",
    "area  = 1/2*base*height\n",
    "print(area,'cm2')"
   ]
  },
  {
   "cell_type": "code",
   "execution_count": 38,
   "id": "8f5f88b5",
   "metadata": {},
   "outputs": [
    {
     "ename": "SyntaxError",
     "evalue": "unterminated string literal (detected at line 2) (1104744296.py, line 2)",
     "output_type": "error",
     "traceback": [
      "\u001b[1;36m  Cell \u001b[1;32mIn[38], line 2\u001b[1;36m\u001b[0m\n\u001b[1;33m    he is in i18n\"\"\"\"\u001b[0m\n\u001b[1;37m                    ^\u001b[0m\n\u001b[1;31mSyntaxError\u001b[0m\u001b[1;31m:\u001b[0m unterminated string literal (detected at line 2)\n"
     ]
    }
   ],
   "source": []
  },
  {
   "cell_type": "code",
   "execution_count": null,
   "id": "1d961f8c",
   "metadata": {},
   "outputs": [],
   "source": []
  }
 ],
 "metadata": {
  "kernelspec": {
   "display_name": "Python 3 (ipykernel)",
   "language": "python",
   "name": "python3"
  },
  "language_info": {
   "codemirror_mode": {
    "name": "ipython",
    "version": 3
   },
   "file_extension": ".py",
   "mimetype": "text/x-python",
   "name": "python",
   "nbconvert_exporter": "python",
   "pygments_lexer": "ipython3",
   "version": "3.10.9"
  }
 },
 "nbformat": 4,
 "nbformat_minor": 5
}
