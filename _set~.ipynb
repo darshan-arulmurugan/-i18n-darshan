{
 "cells": [
  {
   "cell_type": "code",
   "execution_count": 1,
   "id": "52df536c",
   "metadata": {},
   "outputs": [],
   "source": [
    "x= {\"darshan\" , \"danny\" , \"rithul\"}"
   ]
  },
  {
   "cell_type": "code",
   "execution_count": 2,
   "id": "4aa42e81",
   "metadata": {},
   "outputs": [
    {
     "name": "stdout",
     "output_type": "stream",
     "text": [
      "{'danny', 'rithul', 'darshan'}\n"
     ]
    }
   ],
   "source": [
    "print(x)"
   ]
  },
  {
   "cell_type": "code",
   "execution_count": 3,
   "id": "3fe4a60e",
   "metadata": {},
   "outputs": [],
   "source": [
    "y = {\"darshan\" , \"sriman\" , \"mmithun\"}"
   ]
  },
  {
   "cell_type": "code",
   "execution_count": 4,
   "id": "41daca90",
   "metadata": {},
   "outputs": [
    {
     "name": "stdout",
     "output_type": "stream",
     "text": [
      "{'sriman', 'mmithun', 'darshan'}\n"
     ]
    }
   ],
   "source": [
    "print(y)"
   ]
  },
  {
   "cell_type": "code",
   "execution_count": 6,
   "id": "7bf3ad6c",
   "metadata": {},
   "outputs": [
    {
     "data": {
      "text/plain": [
       "set"
      ]
     },
     "execution_count": 6,
     "metadata": {},
     "output_type": "execute_result"
    }
   ],
   "source": [
    "type(x)"
   ]
  },
  {
   "cell_type": "code",
   "execution_count": 7,
   "id": "e1a11f45",
   "metadata": {},
   "outputs": [
    {
     "data": {
      "text/plain": [
       "set"
      ]
     },
     "execution_count": 7,
     "metadata": {},
     "output_type": "execute_result"
    }
   ],
   "source": [
    "type(y)"
   ]
  },
  {
   "cell_type": "code",
   "execution_count": 10,
   "id": "1797dca2",
   "metadata": {},
   "outputs": [],
   "source": [
    "x.add(\"kavish\")"
   ]
  },
  {
   "cell_type": "code",
   "execution_count": 11,
   "id": "fb2df144",
   "metadata": {},
   "outputs": [
    {
     "name": "stdout",
     "output_type": "stream",
     "text": [
      "{'danny', 'kavish', 'rithul', 'hello world', 'darshan'}\n"
     ]
    }
   ],
   "source": [
    "print(x)"
   ]
  },
  {
   "cell_type": "code",
   "execution_count": 13,
   "id": "7c3adf3e",
   "metadata": {},
   "outputs": [
    {
     "data": {
      "text/plain": [
       "'danny'"
      ]
     },
     "execution_count": 13,
     "metadata": {},
     "output_type": "execute_result"
    }
   ],
   "source": [
    "x.pop()"
   ]
  },
  {
   "cell_type": "code",
   "execution_count": 14,
   "id": "516519bc",
   "metadata": {},
   "outputs": [],
   "source": [
    "x.add('danny')"
   ]
  },
  {
   "cell_type": "code",
   "execution_count": 15,
   "id": "1ee7600b",
   "metadata": {},
   "outputs": [
    {
     "name": "stdout",
     "output_type": "stream",
     "text": [
      "{'danny', 'kavish', 'rithul', 'hello world', 'darshan'}\n"
     ]
    }
   ],
   "source": [
    "print(x)"
   ]
  },
  {
   "cell_type": "code",
   "execution_count": 22,
   "id": "53d8331d",
   "metadata": {},
   "outputs": [
    {
     "data": {
      "text/plain": [
       "{'darshan'}"
      ]
     },
     "execution_count": 22,
     "metadata": {},
     "output_type": "execute_result"
    }
   ],
   "source": [
    "x.intersection(y)"
   ]
  },
  {
   "cell_type": "code",
   "execution_count": 23,
   "id": "b0283b87",
   "metadata": {},
   "outputs": [
    {
     "data": {
      "text/plain": [
       "{'danny', 'darshan', 'hello world', 'kavish', 'mmithun', 'rithul', 'sriman'}"
      ]
     },
     "execution_count": 23,
     "metadata": {},
     "output_type": "execute_result"
    }
   ],
   "source": [
    "x.union(y)"
   ]
  },
  {
   "cell_type": "code",
   "execution_count": 24,
   "id": "a5cf3903",
   "metadata": {},
   "outputs": [
    {
     "data": {
      "text/plain": [
       "{'danny', 'hello world', 'kavish', 'rithul'}"
      ]
     },
     "execution_count": 24,
     "metadata": {},
     "output_type": "execute_result"
    }
   ],
   "source": [
    "x.difference(y)"
   ]
  },
  {
   "cell_type": "code",
   "execution_count": 25,
   "id": "aa4ecca2",
   "metadata": {},
   "outputs": [],
   "source": [
    "x.difference_update(y)"
   ]
  },
  {
   "cell_type": "code",
   "execution_count": 26,
   "id": "6a5a3614",
   "metadata": {},
   "outputs": [
    {
     "name": "stdout",
     "output_type": "stream",
     "text": [
      "{'danny', 'kavish', 'rithul', 'hello world'}\n"
     ]
    }
   ],
   "source": [
    "print(x)"
   ]
  },
  {
   "cell_type": "code",
   "execution_count": 27,
   "id": "e88ef129",
   "metadata": {},
   "outputs": [],
   "source": [
    "x.clear()"
   ]
  },
  {
   "cell_type": "code",
   "execution_count": 28,
   "id": "fc7bd079",
   "metadata": {},
   "outputs": [],
   "source": [
    "y.clear()"
   ]
  },
  {
   "cell_type": "code",
   "execution_count": 29,
   "id": "0a9c041c",
   "metadata": {},
   "outputs": [
    {
     "name": "stdout",
     "output_type": "stream",
     "text": [
      "set() set()\n"
     ]
    }
   ],
   "source": [
    "print(x,y)"
   ]
  },
  {
   "cell_type": "code",
   "execution_count": null,
   "id": "1f1c0a7b",
   "metadata": {},
   "outputs": [],
   "source": []
  }
 ],
 "metadata": {
  "kernelspec": {
   "display_name": "Python 3 (ipykernel)",
   "language": "python",
   "name": "python3"
  },
  "language_info": {
   "codemirror_mode": {
    "name": "ipython",
    "version": 3
   },
   "file_extension": ".py",
   "mimetype": "text/x-python",
   "name": "python",
   "nbconvert_exporter": "python",
   "pygments_lexer": "ipython3",
   "version": "3.10.9"
  }
 },
 "nbformat": 4,
 "nbformat_minor": 5
}
