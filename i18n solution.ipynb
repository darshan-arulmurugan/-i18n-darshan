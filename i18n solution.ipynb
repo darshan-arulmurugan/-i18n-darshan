{
 "cells": [
  {
   "cell_type": "code",
   "execution_count": 2,
   "id": "2bb1564f",
   "metadata": {},
   "outputs": [
    {
     "name": "stdout",
     "output_type": "stream",
     "text": [
      "0b1100\n"
     ]
    }
   ],
   "source": [
    "# decimal to binary, hexa, octal\n",
    "\n",
    "print(format (bin(12)))"
   ]
  },
  {
   "cell_type": "code",
   "execution_count": 3,
   "id": "24594c37",
   "metadata": {},
   "outputs": [
    {
     "name": "stdout",
     "output_type": "stream",
     "text": [
      "0x17ea75\n"
     ]
    }
   ],
   "source": [
    "#let\n",
    "x = 1567349\n",
    "print(format(hex(x)))"
   ]
  },
  {
   "cell_type": "code",
   "execution_count": 4,
   "id": "5eee9809",
   "metadata": {},
   "outputs": [
    {
     "name": "stdout",
     "output_type": "stream",
     "text": [
      "0o403000056\n"
     ]
    }
   ],
   "source": [
    "#let\n",
    "y = 67895342\n",
    "print(format(oct(y)))"
   ]
  },
  {
   "cell_type": "code",
   "execution_count": 5,
   "id": "b93001b9",
   "metadata": {},
   "outputs": [
    {
     "name": "stdout",
     "output_type": "stream",
     "text": [
      "2540889928528\n"
     ]
    }
   ],
   "source": [
    "#let\n",
    "ex_num = 234567832\n",
    "print(id(ex_num))"
   ]
  },
  {
   "cell_type": "code",
   "execution_count": 6,
   "id": "65e5ab4a",
   "metadata": {},
   "outputs": [
    {
     "name": "stdout",
     "output_type": "stream",
     "text": [
      "<class 'int'>\n"
     ]
    }
   ],
   "source": [
    "print(type(ex_num))"
   ]
  },
  {
   "cell_type": "code",
   "execution_count": 7,
   "id": "5126435a",
   "metadata": {},
   "outputs": [
    {
     "name": "stdout",
     "output_type": "stream",
     "text": [
      "DarshanArulmurugan\n"
     ]
    }
   ],
   "source": [
    "#let\n",
    "lname = 'Darshan'     #which is a string\n",
    "rname = 'Arulmurugan'\n",
    "myname = lname+rname\n",
    "print(myname)"
   ]
  },
  {
   "cell_type": "code",
   "execution_count": 8,
   "id": "c95d72d4",
   "metadata": {},
   "outputs": [
    {
     "name": "stdout",
     "output_type": "stream",
     "text": [
      "200\n"
     ]
    }
   ],
   "source": [
    "#let \n",
    "x = 120\n",
    "y = 80\n",
    "# using objects in numerics\n",
    "z = x+y\n",
    "print(z)"
   ]
  },
  {
   "cell_type": "code",
   "execution_count": 14,
   "id": "3a918c89",
   "metadata": {},
   "outputs": [
    {
     "name": "stdout",
     "output_type": "stream",
     "text": [
      "11\n"
     ]
    }
   ],
   "source": [
    "#let\n",
    "x = 10\n",
    "print(x+1)\n"
   ]
  },
  {
   "cell_type": "code",
   "execution_count": 16,
   "id": "5f68fa22",
   "metadata": {},
   "outputs": [
    {
     "data": {
      "text/plain": [
       "0"
      ]
     },
     "execution_count": 16,
     "metadata": {},
     "output_type": "execute_result"
    }
   ],
   "source": [
    "#logical attributes\n",
    "\n",
    "0 and 1"
   ]
  },
  {
   "cell_type": "code",
   "execution_count": 17,
   "id": "740b6bce",
   "metadata": {},
   "outputs": [
    {
     "data": {
      "text/plain": [
       "0"
      ]
     },
     "execution_count": 17,
     "metadata": {},
     "output_type": "execute_result"
    }
   ],
   "source": [
    "1 and 0"
   ]
  },
  {
   "cell_type": "code",
   "execution_count": 18,
   "id": "d325ffc3",
   "metadata": {},
   "outputs": [
    {
     "data": {
      "text/plain": [
       "0"
      ]
     },
     "execution_count": 18,
     "metadata": {},
     "output_type": "execute_result"
    }
   ],
   "source": [
    "0 and 0"
   ]
  },
  {
   "cell_type": "code",
   "execution_count": 19,
   "id": "0be55c53",
   "metadata": {},
   "outputs": [
    {
     "data": {
      "text/plain": [
       "1"
      ]
     },
     "execution_count": 19,
     "metadata": {},
     "output_type": "execute_result"
    }
   ],
   "source": [
    "1 and 1"
   ]
  },
  {
   "cell_type": "code",
   "execution_count": 20,
   "id": "40c1fd24",
   "metadata": {},
   "outputs": [
    {
     "data": {
      "text/plain": [
       "False"
      ]
     },
     "execution_count": 20,
     "metadata": {},
     "output_type": "execute_result"
    }
   ],
   "source": [
    "True and False"
   ]
  },
  {
   "cell_type": "code",
   "execution_count": 21,
   "id": "2aaf33a0",
   "metadata": {},
   "outputs": [
    {
     "data": {
      "text/plain": [
       "False"
      ]
     },
     "execution_count": 21,
     "metadata": {},
     "output_type": "execute_result"
    }
   ],
   "source": [
    "False and True"
   ]
  },
  {
   "cell_type": "code",
   "execution_count": 22,
   "id": "3d3fdcc6",
   "metadata": {},
   "outputs": [
    {
     "data": {
      "text/plain": [
       "True"
      ]
     },
     "execution_count": 22,
     "metadata": {},
     "output_type": "execute_result"
    }
   ],
   "source": [
    "True and True"
   ]
  },
  {
   "cell_type": "code",
   "execution_count": 23,
   "id": "1a9075f9",
   "metadata": {},
   "outputs": [
    {
     "data": {
      "text/plain": [
       "False"
      ]
     },
     "execution_count": 23,
     "metadata": {},
     "output_type": "execute_result"
    }
   ],
   "source": [
    "False and False"
   ]
  },
  {
   "cell_type": "code",
   "execution_count": 24,
   "id": "29891909",
   "metadata": {},
   "outputs": [
    {
     "data": {
      "text/plain": [
       "True"
      ]
     },
     "execution_count": 24,
     "metadata": {},
     "output_type": "execute_result"
    }
   ],
   "source": [
    "False or True "
   ]
  },
  {
   "cell_type": "code",
   "execution_count": 25,
   "id": "2c93cbdb",
   "metadata": {},
   "outputs": [
    {
     "data": {
      "text/plain": [
       "True"
      ]
     },
     "execution_count": 25,
     "metadata": {},
     "output_type": "execute_result"
    }
   ],
   "source": [
    "True or False"
   ]
  },
  {
   "cell_type": "code",
   "execution_count": 26,
   "id": "711bd442",
   "metadata": {},
   "outputs": [
    {
     "data": {
      "text/plain": [
       "True"
      ]
     },
     "execution_count": 26,
     "metadata": {},
     "output_type": "execute_result"
    }
   ],
   "source": [
    "True or True\n"
   ]
  },
  {
   "cell_type": "code",
   "execution_count": 27,
   "id": "5706a2f9",
   "metadata": {},
   "outputs": [
    {
     "data": {
      "text/plain": [
       "False"
      ]
     },
     "execution_count": 27,
     "metadata": {},
     "output_type": "execute_result"
    }
   ],
   "source": [
    "False or False"
   ]
  },
  {
   "cell_type": "code",
   "execution_count": null,
   "id": "f9bd62ab",
   "metadata": {},
   "outputs": [],
   "source": [
    "# let\n",
    "x = 2345\n",
    "y = 4532"
   ]
  },
  {
   "cell_type": "code",
   "execution_count": 28,
   "id": "41931861",
   "metadata": {},
   "outputs": [
    {
     "data": {
      "text/plain": [
       "False"
      ]
     },
     "execution_count": 28,
     "metadata": {},
     "output_type": "execute_result"
    }
   ],
   "source": [
    "x>y"
   ]
  },
  {
   "cell_type": "code",
   "execution_count": 29,
   "id": "ff20c2b5",
   "metadata": {},
   "outputs": [
    {
     "data": {
      "text/plain": [
       "True"
      ]
     },
     "execution_count": 29,
     "metadata": {},
     "output_type": "execute_result"
    }
   ],
   "source": [
    "x<y\n"
   ]
  },
  {
   "cell_type": "code",
   "execution_count": 30,
   "id": "07c42c3c",
   "metadata": {},
   "outputs": [
    {
     "data": {
      "text/plain": [
       "False"
      ]
     },
     "execution_count": 30,
     "metadata": {},
     "output_type": "execute_result"
    }
   ],
   "source": [
    "x>=y"
   ]
  },
  {
   "cell_type": "code",
   "execution_count": 32,
   "id": "bbcc1773",
   "metadata": {},
   "outputs": [
    {
     "data": {
      "text/plain": [
       "True"
      ]
     },
     "execution_count": 32,
     "metadata": {},
     "output_type": "execute_result"
    }
   ],
   "source": [
    "x<=y"
   ]
  },
  {
   "cell_type": "code",
   "execution_count": 33,
   "id": "58bd2233",
   "metadata": {},
   "outputs": [
    {
     "data": {
      "text/plain": [
       "False"
      ]
     },
     "execution_count": 33,
     "metadata": {},
     "output_type": "execute_result"
    }
   ],
   "source": [
    "x==y"
   ]
  },
  {
   "cell_type": "code",
   "execution_count": 34,
   "id": "2f3d03a2",
   "metadata": {},
   "outputs": [
    {
     "data": {
      "text/plain": [
       "True"
      ]
     },
     "execution_count": 34,
     "metadata": {},
     "output_type": "execute_result"
    }
   ],
   "source": [
    "x!=y"
   ]
  },
  {
   "cell_type": "code",
   "execution_count": 35,
   "id": "7f22c4fc",
   "metadata": {},
   "outputs": [
    {
     "data": {
      "text/plain": [
       "False"
      ]
     },
     "execution_count": 35,
     "metadata": {},
     "output_type": "execute_result"
    }
   ],
   "source": [
    "#using boolean\n",
    "bool(0)"
   ]
  },
  {
   "cell_type": "code",
   "execution_count": 36,
   "id": "e079ab3e",
   "metadata": {},
   "outputs": [
    {
     "data": {
      "text/plain": [
       "True"
      ]
     },
     "execution_count": 36,
     "metadata": {},
     "output_type": "execute_result"
    }
   ],
   "source": [
    "bool(1)"
   ]
  },
  {
   "cell_type": "code",
   "execution_count": 37,
   "id": "796d9da5",
   "metadata": {},
   "outputs": [
    {
     "data": {
      "text/plain": [
       "False"
      ]
     },
     "execution_count": 37,
     "metadata": {},
     "output_type": "execute_result"
    }
   ],
   "source": [
    "bool(0) and bool(1)"
   ]
  },
  {
   "cell_type": "code",
   "execution_count": 38,
   "id": "7d7a5e13",
   "metadata": {},
   "outputs": [
    {
     "data": {
      "text/plain": [
       "False"
      ]
     },
     "execution_count": 38,
     "metadata": {},
     "output_type": "execute_result"
    }
   ],
   "source": [
    "bool(1) and bool(0)"
   ]
  },
  {
   "cell_type": "code",
   "execution_count": 39,
   "id": "032ef7a8",
   "metadata": {},
   "outputs": [
    {
     "data": {
      "text/plain": [
       "True"
      ]
     },
     "execution_count": 39,
     "metadata": {},
     "output_type": "execute_result"
    }
   ],
   "source": [
    "bool(1) or bool(0)"
   ]
  },
  {
   "cell_type": "code",
   "execution_count": 40,
   "id": "4c4847a8",
   "metadata": {},
   "outputs": [
    {
     "data": {
      "text/plain": [
       "True"
      ]
     },
     "execution_count": 40,
     "metadata": {},
     "output_type": "execute_result"
    }
   ],
   "source": [
    "13>12 and 12<14"
   ]
  },
  {
   "cell_type": "code",
   "execution_count": 42,
   "id": "9cdb199c",
   "metadata": {},
   "outputs": [
    {
     "data": {
      "text/plain": [
       "True"
      ]
     },
     "execution_count": 42,
     "metadata": {},
     "output_type": "execute_result"
    }
   ],
   "source": [
    "12<=15 and 16>11"
   ]
  },
  {
   "cell_type": "markdown",
   "id": "31e2c2b8",
   "metadata": {},
   "source": []
  },
  {
   "cell_type": "code",
   "execution_count": 43,
   "id": "a3d9e36a",
   "metadata": {},
   "outputs": [
    {
     "data": {
      "text/plain": [
       "False"
      ]
     },
     "execution_count": 43,
     "metadata": {},
     "output_type": "execute_result"
    }
   ],
   "source": [
    "100-23==67+10 and 45>67"
   ]
  },
  {
   "cell_type": "code",
   "execution_count": 46,
   "id": "8f2c70b9",
   "metadata": {},
   "outputs": [
    {
     "name": "stdout",
     "output_type": "stream",
     "text": [
      "enter your science mark: 90\n",
      "enter your maths mark: 99\n",
      "enter your social mark: 89\n",
      "enter your tamil mark: 98\n",
      "enetr youe english mark: 80\n",
      "enter your it mark: 100\n",
      "92.66666666666667\n"
     ]
    }
   ],
   "source": [
    "# To find persentage using python\n",
    "\n",
    "science = int(input('enter your science mark: '))\n",
    "maths = int(input('enter your maths mark: '))\n",
    "social  =int(input('enter your social mark: '))\n",
    "tamil = int(input('enter your tamil mark: '))\n",
    "english =int(input('enetr youe english mark: '))\n",
    "it = int(input('enter your it mark: '))\n",
    "total_mark = english+maths+science+tamil+it+social\n",
    "print(total_mark/6)\n"
   ]
  },
  {
   "cell_type": "code",
   "execution_count": 49,
   "id": "be9f3890",
   "metadata": {},
   "outputs": [
    {
     "name": "stdout",
     "output_type": "stream",
     "text": [
      "Enter your password: darshan\n",
      "Re-enter your password: Darshan\n",
      "user is invalid\n"
     ]
    }
   ],
   "source": [
    "# re-check users input\n",
    "enter = input('Enter your password: ')\n",
    "re_check = input('Re-enter your password: ')\n",
    "if enter==re_check:\n",
    "    print(\"user valid\")\n",
    "if enter!=re_check:\n",
    "    print('user is invalid')"
   ]
  },
  {
   "cell_type": "code",
   "execution_count": 51,
   "id": "e84fc9b5",
   "metadata": {},
   "outputs": [
    {
     "name": "stdout",
     "output_type": "stream",
     "text": [
      "enter your USD to convert: 6754\n",
      "USD of your INR = 552004.42\n"
     ]
    }
   ],
   "source": [
    "#dollar to INR\n",
    "\n",
    "user = float(input('enter your USD to convert: '))\n",
    "INR =user*81.73\n",
    "print(\"USD of your INR =\",INR)"
   ]
  },
  {
   "cell_type": "code",
   "execution_count": 52,
   "id": "9814d7dc",
   "metadata": {},
   "outputs": [
    {
     "name": "stdout",
     "output_type": "stream",
     "text": [
      "enter your name: darshan\n",
      "enter your age: 15\n",
      "my name is darshan and my age is 15\n"
     ]
    }
   ],
   "source": [
    "name_input = input('enter your name: ')\n",
    "age_input = input('enter your age: ')\n",
    "print('my name is',name_input,'and my age is',age_input)"
   ]
  },
  {
   "cell_type": "code",
   "execution_count": 56,
   "id": "dcab95e1",
   "metadata": {},
   "outputs": [
    {
     "name": "stdout",
     "output_type": "stream",
     "text": [
      "Enter fahrenhiet to convert576\n",
      "celsius= 302.22222222222223\n"
     ]
    }
   ],
   "source": [
    "#faharenheit to celsius\n",
    "\n",
    "user_input  =float(input('Enter fahrenhiet to convert'))\n",
    "fahrenhiet = (user_input-32)*5/9\n",
    "print('celsius=' ,fahrenhiet)"
   ]
  },
  {
   "cell_type": "code",
   "execution_count": 57,
   "id": "aa8523c1",
   "metadata": {},
   "outputs": [],
   "source": [
    "#let\n",
    "x = [1,2,3,4]\n",
    "y = [1,2,3,4]\n"
   ]
  },
  {
   "cell_type": "code",
   "execution_count": 58,
   "id": "a3235a20",
   "metadata": {},
   "outputs": [
    {
     "data": {
      "text/plain": [
       "True"
      ]
     },
     "execution_count": 58,
     "metadata": {},
     "output_type": "execute_result"
    }
   ],
   "source": [
    "x==y"
   ]
  },
  {
   "cell_type": "code",
   "execution_count": 59,
   "id": "80ab3dd3",
   "metadata": {},
   "outputs": [
    {
     "data": {
      "text/plain": [
       "False"
      ]
     },
     "execution_count": 59,
     "metadata": {},
     "output_type": "execute_result"
    }
   ],
   "source": [
    "x in y"
   ]
  },
  {
   "cell_type": "code",
   "execution_count": 60,
   "id": "ae22d575",
   "metadata": {},
   "outputs": [
    {
     "data": {
      "text/plain": [
       "False"
      ]
     },
     "execution_count": 60,
     "metadata": {},
     "output_type": "execute_result"
    }
   ],
   "source": [
    "y in x"
   ]
  },
  {
   "cell_type": "code",
   "execution_count": 61,
   "id": "7fb191aa",
   "metadata": {},
   "outputs": [
    {
     "data": {
      "text/plain": [
       "2540919846976"
      ]
     },
     "execution_count": 61,
     "metadata": {},
     "output_type": "execute_result"
    }
   ],
   "source": [
    "id(x)"
   ]
  },
  {
   "cell_type": "code",
   "execution_count": 62,
   "id": "b24fb1d4",
   "metadata": {},
   "outputs": [
    {
     "data": {
      "text/plain": [
       "2540919735872"
      ]
     },
     "execution_count": 62,
     "metadata": {},
     "output_type": "execute_result"
    }
   ],
   "source": [
    "id(y)"
   ]
  },
  {
   "cell_type": "code",
   "execution_count": 63,
   "id": "77ac3b8a",
   "metadata": {},
   "outputs": [
    {
     "data": {
      "text/plain": [
       "list"
      ]
     },
     "execution_count": 63,
     "metadata": {},
     "output_type": "execute_result"
    }
   ],
   "source": [
    "type(x)"
   ]
  },
  {
   "cell_type": "code",
   "execution_count": 64,
   "id": "3904deaa",
   "metadata": {},
   "outputs": [
    {
     "data": {
      "text/plain": [
       "list"
      ]
     },
     "execution_count": 64,
     "metadata": {},
     "output_type": "execute_result"
    }
   ],
   "source": [
    "type(y)"
   ]
  },
  {
   "cell_type": "code",
   "execution_count": 65,
   "id": "bda2365a",
   "metadata": {},
   "outputs": [
    {
     "name": "stdout",
     "output_type": "stream",
     "text": [
      "hello darshan\n"
     ]
    }
   ],
   "source": [
    "name = 'darshan is a python learner'\n",
    "if 'python' in name:\n",
    "    print('hello darshan')"
   ]
  },
  {
   "cell_type": "code",
   "execution_count": 66,
   "id": "90ffa57e",
   "metadata": {},
   "outputs": [
    {
     "name": "stdout",
     "output_type": "stream",
     "text": [
      "yep bye\n"
     ]
    }
   ],
   "source": [
    "if 'put' in name:\n",
    "    print('hey')\n",
    "else:\n",
    "    print('yep bye')"
   ]
  },
  {
   "cell_type": "code",
   "execution_count": 68,
   "id": "08b18bb0",
   "metadata": {},
   "outputs": [
    {
     "name": "stdout",
     "output_type": "stream",
     "text": [
      "d\n"
     ]
    }
   ],
   "source": [
    "#mutable and immutable\n",
    "name = 'darshan'\n",
    "print(name[0])"
   ]
  },
  {
   "cell_type": "code",
   "execution_count": 70,
   "id": "0d29a9d1",
   "metadata": {},
   "outputs": [
    {
     "name": "stdout",
     "output_type": "stream",
     "text": [
      "r\n"
     ]
    }
   ],
   "source": [
    "print(name[2])"
   ]
  },
  {
   "cell_type": "code",
   "execution_count": 71,
   "id": "bce00062",
   "metadata": {},
   "outputs": [
    {
     "name": "stdout",
     "output_type": "stream",
     "text": [
      "darshan\n"
     ]
    }
   ],
   "source": [
    "name = ['darshan','jatin','arulmurugan','gowri']\n",
    "print(name[0])"
   ]
  },
  {
   "cell_type": "code",
   "execution_count": 72,
   "id": "c3048e0e",
   "metadata": {},
   "outputs": [
    {
     "name": "stdout",
     "output_type": "stream",
     "text": [
      "gowri\n"
     ]
    }
   ],
   "source": [
    "print(name[3])"
   ]
  },
  {
   "cell_type": "code",
   "execution_count": 73,
   "id": "ac1ba33e",
   "metadata": {},
   "outputs": [
    {
     "name": "stdout",
     "output_type": "stream",
     "text": [
      "your correct\n"
     ]
    }
   ],
   "source": [
    "#let\n",
    "\n",
    "x =20\n",
    "y =60\n",
    "y>x\n",
    "if False:\n",
    "    print('your predict is false')\n",
    "else:\n",
    "    print('your correct')"
   ]
  }
 ],
 "metadata": {
  "kernelspec": {
   "display_name": "Python 3 (ipykernel)",
   "language": "python",
   "name": "python3"
  },
  "language_info": {
   "codemirror_mode": {
    "name": "ipython",
    "version": 3
   },
   "file_extension": ".py",
   "mimetype": "text/x-python",
   "name": "python",
   "nbconvert_exporter": "python",
   "pygments_lexer": "ipython3",
   "version": "3.10.9"
  }
 },
 "nbformat": 4,
 "nbformat_minor": 5
}
